{
  "cells": [
    {
      "cell_type": "markdown",
      "metadata": {
        "id": "nprqAw6W6GcO"
      },
      "source": [
        "# demo: 高雄市停車資訊"
      ]
    },
    {
      "cell_type": "code",
      "execution_count": null,
      "metadata": {
        "id": "HX086pK96GcW",
        "outputId": "f508ef08-a90f-47a1-c2df-1b7cfa3c87b9",
        "colab": {
          "base_uri": "https://localhost:8080/"
        }
      },
      "outputs": [
        {
          "output_type": "stream",
          "name": "stdout",
          "text": [
            "<Response [200]>\n"
          ]
        }
      ],
      "source": [
        "import requests\n",
        "\n",
        "url = \"https://data.kcg.gov.tw/dataset/449e45d9-dead-4873-95a9-cc34dabbb3af/resource/fe3f93da-9673-4f7b-859c-9017d793f798/download/108.6.21.csv\"\n",
        "\n",
        "r = requests.get(url)\n",
        "\n",
        "print(r)"
      ]
    },
    {
      "cell_type": "code",
      "execution_count": null,
      "metadata": {
        "id": "xFh8mME16GcZ"
      },
      "outputs": [],
      "source": [
        "import csv\n",
        "\n",
        "decoded_content = r.content.decode('utf-8')\n",
        "cr = csv.reader(decoded_content.splitlines(), delimiter=',')\n",
        "data_list = list(cr)\n"
      ]
    },
    {
      "cell_type": "code",
      "execution_count": null,
      "metadata": {
        "id": "QdsUf5n_6Gca",
        "outputId": "51e44cf4-4189-4eb4-95dd-3633f0977b15",
        "colab": {
          "base_uri": "https://localhost:8080/"
        }
      },
      "outputs": [
        {
          "output_type": "stream",
          "name": "stdout",
          "text": [
            "['\\ufeff型式', '行政區', '場名', '位置', '緯度', '經度', '收費標準', '大車', '小車', '機車', '管理業者', '聯絡電話', '履約起迄']\n",
            "['平面', '甲仙區', '甲仙林森', 'A區：林森路70號旁', '23.082862', '120.587988', '小車計次(30元/6小時)', '0', '35', '0', '歐特儀股份有限公司', '903135731', '113/04/01～119/03/31']\n"
          ]
        }
      ],
      "source": [
        "print(data_list[0])\n",
        "print(data_list[1])"
      ]
    },
    {
      "cell_type": "markdown",
      "metadata": {
        "id": "9t4NqAWH6Gce"
      },
      "source": [
        "### 開始進行視覺化"
      ]
    },
    {
      "cell_type": "code",
      "execution_count": null,
      "metadata": {
        "id": "AUnQz_ea6Gch"
      },
      "outputs": [],
      "source": []
    }
  ],
  "metadata": {
    "kernelspec": {
      "display_name": "Python 3 (ipykernel)",
      "language": "python",
      "name": "python3"
    },
    "language_info": {
      "codemirror_mode": {
        "name": "ipython",
        "version": 3
      },
      "file_extension": ".py",
      "mimetype": "text/x-python",
      "name": "python",
      "nbconvert_exporter": "python",
      "pygments_lexer": "ipython3",
      "version": "3.9.7"
    },
    "colab": {
      "provenance": []
    }
  },
  "nbformat": 4,
  "nbformat_minor": 0
}