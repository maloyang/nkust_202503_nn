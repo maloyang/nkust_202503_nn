{
  "cells": [
    {
      "cell_type": "markdown",
      "metadata": {
        "id": "uR45v_zPBerw"
      },
      "source": [
        "# Demo: 公共腳踏車應用 2"
      ]
    },
    {
      "cell_type": "markdown",
      "metadata": {
        "id": "JlCqkqVyBer4"
      },
      "source": [
        "## 新北市公共自行車租賃系統(YouBike): https://data.gov.tw/dataset/123026"
      ]
    },
    {
      "cell_type": "code",
      "execution_count": null,
      "metadata": {
        "id": "WkGDFY-2Ber8"
      },
      "outputs": [],
      "source": [
        "import requests\n",
        "\n",
        "# 原來的政府公開資訊\n",
        "#url = \"https://data.ntpc.gov.tw/api/datasets/71CD1490-A2DF-4198-BEF1-318479775E8A/csv/file\"\n",
        "url = 'https://raw.githubusercontent.com/maloyang/csu_202302_ML/main/W03/bike_02_%E6%96%B0%E5%8C%97%E5%B8%82.csv'\n",
        "\n",
        "r = requests.get(url)\n",
        "print(r)"
      ]
    },
    {
      "cell_type": "code",
      "execution_count": null,
      "metadata": {
        "id": "OEzQt3aKBesD"
      },
      "outputs": [],
      "source": [
        "import csv\n",
        "\n",
        "decoded_content = r.content.decode('utf-8')\n",
        "cr = csv.reader(decoded_content.splitlines(), delimiter=',')\n",
        "data_list = list(cr)\n",
        "\n",
        "data_list[1]"
      ]
    },
    {
      "cell_type": "code",
      "execution_count": null,
      "metadata": {
        "id": "w83OaeIEBesE",
        "tags": []
      },
      "outputs": [],
      "source": [
        "# 可以使用 `pip install folium` 安裝套件\n",
        "# 使用 `pip install geopy`"
      ]
    },
    {
      "cell_type": "code",
      "execution_count": null,
      "metadata": {
        "id": "dHNBda7kBesF"
      },
      "outputs": [],
      "source": [
        "# 在colab用底下的安裝指令\n",
        "\n",
        "!pip install geopy"
      ]
    },
    {
      "cell_type": "code",
      "execution_count": null,
      "metadata": {
        "id": "qa97RgceBesH"
      },
      "outputs": [],
      "source": [
        "import folium\n",
        "import geopy\n",
        "\n",
        "from geopy.geocoders import Nominatim\n",
        "\n",
        "def get_gps_coordinates(location_name):\n",
        "    \"\"\"\n",
        "    取得指定地名的 GPS 座標。\n",
        "\n",
        "    Args:\n",
        "        location_name (str): 地名。\n",
        "\n",
        "    Returns:\n",
        "        tuple: (緯度, 經度)，如果找不到則返回 None。\n",
        "    \"\"\"\n",
        "    try:\n",
        "        geolocator = Nominatim(user_agent=\"my_geocoder\")\n",
        "        location = geolocator.geocode(location_name)\n",
        "        if location:\n",
        "            return location.latitude, location.longitude\n",
        "        else:\n",
        "            return None\n",
        "    except Exception as e:\n",
        "        print(f\"發生錯誤：{e}\")\n",
        "        return None"
      ]
    },
    {
      "cell_type": "code",
      "execution_count": null,
      "metadata": {
        "id": "z4yGJ5xzBesI"
      },
      "outputs": [],
      "source": [
        "# 使用 geocoder 取得特定住址的 GPS 座標\n",
        "location = get_gps_coordinates('新北市')\n",
        "print(location)"
      ]
    },
    {
      "cell_type": "code",
      "source": [
        "# TODO: 試著用map呈現資料，並顯示剩餘車輛"
      ],
      "metadata": {
        "id": "L1SCEapCBZvs"
      },
      "execution_count": null,
      "outputs": []
    },
    {
      "cell_type": "code",
      "source": [
        "# TODO: 試著用map呈現資料，並顯示剩餘車輛，並把用顏色區分不同數量，3台以上為綠色，以下為紅色\n",
        "# hint: folium.Marker([float(lat), float(lng)], popup='剩餘車輛:,',icon=folium.Icon(color='red', prefix='fa', icon='fa-bicycle')).add_to(m)"
      ],
      "metadata": {
        "id": "iq60rRW3BsCf"
      },
      "execution_count": null,
      "outputs": []
    },
    {
      "cell_type": "code",
      "execution_count": null,
      "metadata": {
        "id": "1xczYC5OBesL"
      },
      "outputs": [],
      "source": [
        "m"
      ]
    },
    {
      "cell_type": "markdown",
      "metadata": {
        "id": "e_XN-gizBesM"
      },
      "source": [
        "- 下載你的成果"
      ]
    },
    {
      "cell_type": "code",
      "execution_count": null,
      "metadata": {
        "id": "s2qoTiVoBesN"
      },
      "outputs": [],
      "source": [
        "m.save('demo01.html')"
      ]
    },
    {
      "cell_type": "code",
      "execution_count": null,
      "metadata": {
        "id": "_k4Ltm0yBesN"
      },
      "outputs": [],
      "source": [
        "\n",
        "from google.colab import files\n",
        "files.download('demo01.html')\n"
      ]
    },
    {
      "cell_type": "markdown",
      "metadata": {
        "id": "IrZUV3TtBesO"
      },
      "source": [
        "- 練習題: 試著使用tooltip取代popup參數"
      ]
    },
    {
      "cell_type": "code",
      "execution_count": null,
      "metadata": {
        "id": "X3DU6gNfBesO"
      },
      "outputs": [],
      "source": [
        "# TODO: 請在這邊填入你的程式\n",
        "\n"
      ]
    }
  ],
  "metadata": {
    "colab": {
      "provenance": []
    },
    "kernelspec": {
      "display_name": "Python 3 (ipykernel)",
      "language": "python",
      "name": "python3"
    },
    "language_info": {
      "codemirror_mode": {
        "name": "ipython",
        "version": 3
      },
      "file_extension": ".py",
      "mimetype": "text/x-python",
      "name": "python",
      "nbconvert_exporter": "python",
      "pygments_lexer": "ipython3",
      "version": "3.9.7"
    }
  },
  "nbformat": 4,
  "nbformat_minor": 0
}