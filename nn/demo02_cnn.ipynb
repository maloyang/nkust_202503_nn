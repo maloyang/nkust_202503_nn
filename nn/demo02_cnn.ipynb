{
  "cells": [
    {
      "cell_type": "markdown",
      "metadata": {
        "id": "OmAT4DpvlPgw"
      },
      "source": [
        "# CNN初探"
      ]
    },
    {
      "cell_type": "markdown",
      "metadata": {
        "id": "KYyPvWYjMEUy"
      },
      "source": [
        "### 因為在深度學習的應用，常常會有Python和套件版本相依性的問題存在，因此我們這邊提出確認版本的方法，未來電腦程式執行有問題時可以依此確認過!"
      ]
    },
    {
      "cell_type": "code",
      "execution_count": null,
      "metadata": {
        "id": "D6HJZhb6Szir"
      },
      "outputs": [],
      "source": [
        "import tensorflow\n",
        "print(tensorflow.__version__)"
      ]
    },
    {
      "cell_type": "code",
      "execution_count": null,
      "metadata": {
        "id": "TE0xiR_wyehx"
      },
      "outputs": [],
      "source": [
        "import tensorflow.keras as ks\n",
        "ks.__version__"
      ]
    },
    {
      "cell_type": "code",
      "execution_count": null,
      "metadata": {
        "id": "FAy6UFCFyoCU"
      },
      "outputs": [],
      "source": [
        "!python --version"
      ]
    },
    {
      "cell_type": "markdown",
      "metadata": {
        "id": "ifQB2MzIdxO-"
      },
      "source": [
        "----\n",
        "## 試試看基本的類神經網路"
      ]
    },
    {
      "cell_type": "code",
      "execution_count": null,
      "metadata": {
        "id": "b3_isPYSzvdu"
      },
      "outputs": [],
      "source": [
        "# 舊版是這樣\n",
        "#from keras import models\n",
        "#from keras import layers\n",
        "#from keras.datasets import mnist\n",
        "#from keras.utils import to_categorical\n"
      ]
    },
    {
      "cell_type": "code",
      "execution_count": null,
      "metadata": {
        "id": "FPW3KW6cza9j"
      },
      "outputs": [],
      "source": [
        "from tensorflow.keras import models\n",
        "from tensorflow.keras import layers\n",
        "from tensorflow.keras.datasets import mnist\n",
        "from tensorflow.keras.utils import to_categorical"
      ]
    },
    {
      "cell_type": "code",
      "source": [
        "#- 1>準備資料\n",
        "(train_images, train_labels), (test_images, test_labels) = mnist.load_data()\n",
        "\n",
        "#- 整理資料\n",
        "train_images = train_images.reshape((60000, 28, 28, 1))  #reshape 是 NumPy 陣列的 method\n",
        "train_images = train_images.astype('float32') / 255\n",
        "\n",
        "test_images = test_images.reshape((10000, 28, 28, 1))\n",
        "test_images = test_images.astype('float32') / 255\n",
        "\n",
        "#- 準備標籤\n",
        "train_labels = to_categorical(train_labels)\n",
        "test_labels = to_categorical(test_labels)"
      ],
      "metadata": {
        "id": "peV1fNEq5gge"
      },
      "execution_count": null,
      "outputs": []
    },
    {
      "cell_type": "code",
      "execution_count": null,
      "metadata": {
        "id": "ZmFlh0PTZSBi"
      },
      "outputs": [],
      "source": [
        "# 2>定義模型\n",
        "# 建立一個小型的cnn\n",
        "model = models.Sequential()\n",
        "\n",
        "model.add( layers.Conv2D(32, (3, 3), activation='relu', input_shape=(28, 28, 1)) )\n",
        "model.add( layers.MaxPooling2D((2, 2)) )\n",
        "\n",
        "model.add( layers.Conv2D(64, (3, 3), activation='relu') )\n",
        "model.add( layers.MaxPooling2D((2, 2)) )\n",
        "\n",
        "model.add( layers.Conv2D(64, (3, 3), activation='relu') )"
      ]
    },
    {
      "cell_type": "code",
      "execution_count": null,
      "metadata": {
        "id": "GO10ilqnZSBj"
      },
      "outputs": [],
      "source": [
        "model.summary()"
      ]
    },
    {
      "cell_type": "code",
      "execution_count": null,
      "metadata": {
        "id": "yUDg9sYBZSBk"
      },
      "outputs": [],
      "source": [
        "# 再加入Dense密集層，這邊需要先展平\n",
        "\n",
        "model.add( layers.Flatten() )\n",
        "model.add( layers.Dense(64, activation='relu') )\n",
        "model.add( layers.Dense(10, activation='softmax') )"
      ]
    },
    {
      "cell_type": "code",
      "execution_count": null,
      "metadata": {
        "scrolled": false,
        "id": "r-TkM7EyZSBl"
      },
      "outputs": [],
      "source": [
        "model.summary()"
      ]
    },
    {
      "cell_type": "code",
      "execution_count": null,
      "metadata": {
        "id": "w5zu9n0qZSBo"
      },
      "outputs": [],
      "source": [
        "# 3>訓練模型\n",
        "\n",
        "model.compile(optimizer='rmsprop',\n",
        "             loss='categorical_crossentropy',\n",
        "             metrics=['accuracy'])\n",
        "model.fit(train_images, train_labels, epochs=5, batch_size=64)"
      ]
    },
    {
      "cell_type": "code",
      "execution_count": null,
      "metadata": {
        "id": "SBllNEyMZSBo"
      },
      "outputs": [],
      "source": [
        "# 4>測試模型(再使用測試資料進行評估)\n",
        "test_loss, test_acc = model.evaluate(test_images, test_labels)"
      ]
    },
    {
      "cell_type": "markdown",
      "metadata": {
        "id": "x-NsBIuvZSBo"
      },
      "source": [
        "### 相較之前的單純密集連接層NN的model，準確度提昇不少"
      ]
    },
    {
      "cell_type": "code",
      "execution_count": null,
      "metadata": {
        "id": "rL6T0_Z_ZSBp"
      },
      "outputs": [],
      "source": []
    }
  ],
  "metadata": {
    "colab": {
      "provenance": []
    },
    "kernelspec": {
      "display_name": "Python 3",
      "name": "python3"
    },
    "language_info": {
      "codemirror_mode": {
        "name": "ipython",
        "version": 3
      },
      "file_extension": ".py",
      "mimetype": "text/x-python",
      "name": "python",
      "nbconvert_exporter": "python",
      "pygments_lexer": "ipython3",
      "version": "3.7.13"
    }
  },
  "nbformat": 4,
  "nbformat_minor": 0
}