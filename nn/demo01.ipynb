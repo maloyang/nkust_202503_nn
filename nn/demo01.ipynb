{
  "cells": [
    {
      "cell_type": "markdown",
      "metadata": {
        "id": "OmAT4DpvlPgw"
      },
      "source": [
        "# 初探神經網路"
      ]
    },
    {
      "cell_type": "markdown",
      "metadata": {
        "id": "KYyPvWYjMEUy"
      },
      "source": [
        "### 因為在深度學習的應用，常常會有Python和套件版本相依性的問題存在，因此我們這邊提出確認版本的方法，未來電腦程式執行有問題時可以依此確認過!"
      ]
    },
    {
      "cell_type": "code",
      "execution_count": null,
      "metadata": {
        "id": "D6HJZhb6Szir"
      },
      "outputs": [],
      "source": [
        "import tensorflow\n",
        "print(tensorflow.__version__)"
      ]
    },
    {
      "cell_type": "code",
      "execution_count": null,
      "metadata": {
        "id": "TE0xiR_wyehx"
      },
      "outputs": [],
      "source": [
        "import tensorflow.keras as ks\n",
        "ks.__version__"
      ]
    },
    {
      "cell_type": "code",
      "execution_count": null,
      "metadata": {
        "id": "FAy6UFCFyoCU"
      },
      "outputs": [],
      "source": [
        "!python --version"
      ]
    },
    {
      "cell_type": "markdown",
      "metadata": {
        "id": "h3JtE9aduUVO"
      },
      "source": [
        "## 載入資料、準備資料"
      ]
    },
    {
      "cell_type": "code",
      "execution_count": null,
      "metadata": {
        "id": "72DclNNotoqN"
      },
      "outputs": [],
      "source": [
        "from keras.datasets import mnist\n",
        "\n",
        "(train_images, train_labels), (test_images, test_labels) = mnist.load_data()"
      ]
    },
    {
      "cell_type": "code",
      "execution_count": null,
      "metadata": {
        "id": "0VYKvRU6tonq"
      },
      "outputs": [],
      "source": [
        "print(train_images.ndim)#ndim 為 3, 有 3 個軸"
      ]
    },
    {
      "cell_type": "code",
      "execution_count": null,
      "metadata": {
        "id": "4Jlf0CottolM"
      },
      "outputs": [],
      "source": [
        "print(train_images.shape)#shape 為 60000x28x28 維的 3D 張量 (有 3 個元素)"
      ]
    },
    {
      "cell_type": "code",
      "execution_count": null,
      "metadata": {
        "id": "_RIVEqrOtoii"
      },
      "outputs": [],
      "source": [
        "print(train_images.dtype)#元素的資料型別為 0~255 的整數"
      ]
    },
    {
      "cell_type": "markdown",
      "metadata": {
        "id": "aJvG8K-0u-st"
      },
      "source": [
        "### 顯示第 4 個數字的圖像"
      ]
    },
    {
      "cell_type": "code",
      "execution_count": null,
      "metadata": {
        "id": "1zekK0CItogH"
      },
      "outputs": [],
      "source": [
        "digit = train_images[4]\n",
        "\n",
        "import matplotlib.pyplot as plt\n",
        "plt.imshow(digit, cmap=plt.cm.binary)\n",
        "plt.show()"
      ]
    },
    {
      "cell_type": "markdown",
      "metadata": {
        "id": "ifQB2MzIdxO-"
      },
      "source": [
        "----\n",
        "## 試試看基本的類神經網路"
      ]
    },
    {
      "cell_type": "code",
      "execution_count": null,
      "metadata": {
        "id": "b3_isPYSzvdu"
      },
      "outputs": [],
      "source": [
        "# 舊版是這樣\n",
        "#from keras import models\n",
        "#from keras import layers\n",
        "#from keras.datasets import mnist\n",
        "#from keras.utils import to_categorical\n"
      ]
    },
    {
      "cell_type": "code",
      "execution_count": null,
      "metadata": {
        "id": "FPW3KW6cza9j"
      },
      "outputs": [],
      "source": [
        "from tensorflow.keras import models\n",
        "from tensorflow.keras import layers\n",
        "from tensorflow.keras.datasets import mnist\n",
        "from tensorflow.keras.utils import to_categorical"
      ]
    },
    {
      "cell_type": "code",
      "execution_count": null,
      "metadata": {
        "id": "IoUEChSmUVA5"
      },
      "outputs": [],
      "source": [
        "#- 1>準備資料\n",
        "(train_images, train_labels), (test_images, test_labels) = mnist.load_data()\n",
        "\n",
        "#- 整理資料\n",
        "train_images = train_images.reshape((60000, 28 * 28))  #reshape 是 NumPy 陣列的 method\n",
        "train_images = train_images.astype('float32') / 255\n",
        "\n",
        "test_images = test_images.reshape((10000, 28 * 28))\n",
        "test_images = test_images.astype('float32') / 255\n",
        "\n",
        "#- 準備標籤\n",
        "train_labels = to_categorical(train_labels)\n",
        "test_labels = to_categorical(test_labels)\n",
        "\n"
      ]
    },
    {
      "cell_type": "code",
      "execution_count": null,
      "metadata": {
        "id": "FIcWSNlRVAkf"
      },
      "outputs": [],
      "source": [
        "print(train_images[0].shape)"
      ]
    },
    {
      "cell_type": "code",
      "execution_count": null,
      "metadata": {
        "id": "eysTjhldVEfE"
      },
      "outputs": [],
      "source": [
        "print(train_images[0])"
      ]
    },
    {
      "cell_type": "code",
      "execution_count": null,
      "metadata": {
        "id": "dk9RPEdCUQdP"
      },
      "outputs": [],
      "source": [
        "\n",
        "#- 2>定義模型\n",
        "network = models.Sequential()\n",
        "network.add(layers.Dense(512, activation='relu', input_shape=(28 * 28,)))\n",
        "network.add(layers.Dense(10, activation='softmax'))\n",
        "\n",
        "\n",
        "network.compile(optimizer='rmsprop',\n",
        "                loss='categorical_crossentropy',\n",
        "                metrics=['accuracy'])\n"
      ]
    },
    {
      "cell_type": "code",
      "source": [
        "# 觀看模型\n",
        "network.summary()"
      ],
      "metadata": {
        "id": "PvQM_MOqZzhr"
      },
      "execution_count": null,
      "outputs": []
    },
    {
      "cell_type": "code",
      "execution_count": null,
      "metadata": {
        "id": "bkm52S8Fcd8l"
      },
      "outputs": [],
      "source": [
        "#- 3>訓練模型\n",
        "network.fit(train_images, train_labels, epochs=5, batch_size=128)\n",
        "\n"
      ]
    },
    {
      "cell_type": "code",
      "execution_count": null,
      "metadata": {
        "id": "S7N4fyqPd8yD"
      },
      "outputs": [],
      "source": [
        "#- 4>測試模型\n",
        "test_loss, test_acc = network.evaluate(test_images, test_labels)\n",
        "print('test_acc:', test_acc)"
      ]
    },
    {
      "cell_type": "code",
      "execution_count": null,
      "metadata": {
        "id": "Twm0QVP3eSFT"
      },
      "outputs": [],
      "source": []
    }
  ],
  "metadata": {
    "colab": {
      "name": "demo1_.ipynb",
      "provenance": []
    },
    "kernelspec": {
      "display_name": "Python 3",
      "name": "python3"
    },
    "language_info": {
      "codemirror_mode": {
        "name": "ipython",
        "version": 3
      },
      "file_extension": ".py",
      "mimetype": "text/x-python",
      "name": "python",
      "nbconvert_exporter": "python",
      "pygments_lexer": "ipython3",
      "version": "3.9.7"
    }
  },
  "nbformat": 4,
  "nbformat_minor": 0
}