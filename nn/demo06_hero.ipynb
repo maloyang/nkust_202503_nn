{
  "cells": [
    {
      "cell_type": "markdown",
      "metadata": {
        "id": "OmAT4DpvlPgw"
      },
      "source": [
        "# ImageNet比賽的英雄們!\n"
      ]
    },
    {
      "cell_type": "markdown",
      "metadata": {
        "id": "KYyPvWYjMEUy"
      },
      "source": [
        "### 因為在深度學習的應用，常常會有Python和套件版本相依性的問題存在，因此我們這邊提出確認版本的方法，未來電腦程式執行有問題時可以依此確認過!"
      ]
    },
    {
      "cell_type": "code",
      "execution_count": 2,
      "metadata": {
        "colab": {
          "base_uri": "https://localhost:8080/"
        },
        "id": "D6HJZhb6Szir",
        "outputId": "a3e53379-ca1a-4d99-d9b5-2954b3f4119d"
      },
      "outputs": [
        {
          "output_type": "stream",
          "name": "stdout",
          "text": [
            "2.9.2\n"
          ]
        }
      ],
      "source": [
        "import tensorflow\n",
        "print(tensorflow.__version__)"
      ]
    },
    {
      "cell_type": "code",
      "execution_count": 3,
      "metadata": {
        "colab": {
          "base_uri": "https://localhost:8080/",
          "height": 35
        },
        "id": "TE0xiR_wyehx",
        "outputId": "dfe0ee72-88f5-4845-caac-ddb52de41aa2"
      },
      "outputs": [
        {
          "output_type": "execute_result",
          "data": {
            "text/plain": [
              "'2.9.0'"
            ],
            "application/vnd.google.colaboratory.intrinsic+json": {
              "type": "string"
            }
          },
          "metadata": {},
          "execution_count": 3
        }
      ],
      "source": [
        "import tensorflow.keras as ks\n",
        "ks.__version__"
      ]
    },
    {
      "cell_type": "code",
      "execution_count": 4,
      "metadata": {
        "colab": {
          "base_uri": "https://localhost:8080/"
        },
        "id": "FAy6UFCFyoCU",
        "outputId": "e0db0484-db8c-4db5-d8a6-f727bd4f8f58"
      },
      "outputs": [
        {
          "output_type": "stream",
          "name": "stdout",
          "text": [
            "Python 3.8.16\n"
          ]
        }
      ],
      "source": [
        "!python --version"
      ]
    },
    {
      "cell_type": "code",
      "source": [],
      "metadata": {
        "id": "vomJcmD_w99Y"
      },
      "execution_count": null,
      "outputs": []
    },
    {
      "cell_type": "code",
      "source": [
        "from keras.applications.vgg16 import VGG16\n",
        "#from keras.preprocessing import image\n",
        "from tensorflow.keras.preprocessing import image\n",
        "from keras.applications.vgg16 import preprocess_input, decode_predictions\n",
        "import numpy as np\n",
        "\n",
        "model = VGG16(weights='imagenet', include_top=True)"
      ],
      "metadata": {
        "id": "1IyjOpVsw9g8"
      },
      "execution_count": 12,
      "outputs": []
    },
    {
      "cell_type": "code",
      "source": [
        "img_url = 'https://cdn.pixabay.com/photo/2016/02/19/15/46/labrador-retriever-1210559_960_720.jpg'\n"
      ],
      "metadata": {
        "id": "QPhvV3gvxsbt"
      },
      "execution_count": null,
      "outputs": []
    },
    {
      "cell_type": "code",
      "source": [
        "!wget -O dog01.jpg https://cdn.pixabay.com/photo/2016/02/19/15/46/labrador-retriever-1210559_960_720.jpg"
      ],
      "metadata": {
        "id": "aunPL6UXyfO6",
        "outputId": "5c7f6eda-f049-4c76-9240-c4a021096745",
        "colab": {
          "base_uri": "https://localhost:8080/"
        }
      },
      "execution_count": 10,
      "outputs": [
        {
          "output_type": "stream",
          "name": "stdout",
          "text": [
            "--2022-12-26 14:15:55--  https://cdn.pixabay.com/photo/2016/02/19/15/46/labrador-retriever-1210559_960_720.jpg\n",
            "Resolving cdn.pixabay.com (cdn.pixabay.com)... 104.18.37.244, 172.64.150.12, 2606:4700:4400::ac40:960c, ...\n",
            "Connecting to cdn.pixabay.com (cdn.pixabay.com)|104.18.37.244|:443... connected.\n",
            "HTTP request sent, awaiting response... 200 OK\n",
            "Length: 139598 (136K) [binary/octet-stream]\n",
            "Saving to: ‘dog01.jpg’\n",
            "\n",
            "dog01.jpg           100%[===================>] 136.33K  --.-KB/s    in 0.02s   \n",
            "\n",
            "2022-12-26 14:15:55 (5.82 MB/s) - ‘dog01.jpg’ saved [139598/139598]\n",
            "\n"
          ]
        }
      ]
    },
    {
      "cell_type": "code",
      "source": [
        "img_path = './dog01.jpg'\n",
        "img = image.load_img(img_path, target_size=(224, 224))\n",
        "x = image.img_to_array(img)\n",
        "x = np.expand_dims(x, axis=0)\n",
        "x = preprocess_input(x)"
      ],
      "metadata": {
        "id": "0Vvvh91SxsKl"
      },
      "execution_count": 13,
      "outputs": []
    },
    {
      "cell_type": "code",
      "source": [
        "features = model.predict(x)\n",
        "print('Predicted: ', decode_predictions(features, top=3)[0])"
      ],
      "metadata": {
        "id": "M33qlAz4zNfo",
        "outputId": "15d6bd69-7b42-4b3a-c779-50074386751d",
        "colab": {
          "base_uri": "https://localhost:8080/"
        }
      },
      "execution_count": 15,
      "outputs": [
        {
          "output_type": "stream",
          "name": "stdout",
          "text": [
            "1/1 [==============================] - 1s 734ms/step\n",
            "Downloading data from https://storage.googleapis.com/download.tensorflow.org/data/imagenet_class_index.json\n",
            "35363/35363 [==============================] - 0s 0us/step\n",
            "Predicted:  [('n02099712', 'Labrador_retriever', 0.6122157), ('n02099601', 'golden_retriever', 0.23711358), ('n02087394', 'Rhodesian_ridgeback', 0.024822867)]\n"
          ]
        }
      ]
    }
  ],
  "metadata": {
    "accelerator": "TPU",
    "colab": {
      "provenance": []
    },
    "kernelspec": {
      "display_name": "Python 3 (ipykernel)",
      "language": "python",
      "name": "python3"
    },
    "language_info": {
      "codemirror_mode": {
        "name": "ipython",
        "version": 3
      },
      "file_extension": ".py",
      "mimetype": "text/x-python",
      "name": "python",
      "nbconvert_exporter": "python",
      "pygments_lexer": "ipython3",
      "version": "3.7.13"
    }
  },
  "nbformat": 4,
  "nbformat_minor": 0
}