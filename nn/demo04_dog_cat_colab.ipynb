{
  "cells": [
    {
      "cell_type": "markdown",
      "metadata": {
        "id": "OmAT4DpvlPgw"
      },
      "source": [
        "# CNN的影像分類應用"
      ]
    },
    {
      "cell_type": "markdown",
      "metadata": {
        "id": "JpSxPkPHnNgj"
      },
      "source": [
        "- ref: https://www.twblogs.net/a/5e4f584abd9eee101e851e85\n",
        "- 原來的資料下載連結是在kaggle: https://www.kaggle.com/c/dogs-vs-cats/data\n",
        "- 也可以由我的雲端硬碟下載: https://drive.google.com/file/d/1I7o7PNFYhRDOKAJCgcq3FhYV5iDlkxtN/view"
      ]
    },
    {
      "cell_type": "code",
      "source": [
        "# 這是另外一個下載的方式，適合用在colab的練習\n",
        "!wget --no-check-certificate \"https://github.com/ADlead/Dogs-Cats/archive/master.zip\" -O \"cats-and-dogs.zip\""
      ],
      "metadata": {
        "colab": {
          "base_uri": "https://localhost:8080/"
        },
        "id": "PywcNDPnpKOa",
        "outputId": "d5418dbc-4871-4a26-c6b3-f7bf53f9ab21"
      },
      "execution_count": 2,
      "outputs": [
        {
          "output_type": "stream",
          "name": "stdout",
          "text": [
            "--2022-12-26 13:35:22--  https://github.com/ADlead/Dogs-Cats/archive/master.zip\n",
            "Resolving github.com (github.com)... 140.82.113.3\n",
            "Connecting to github.com (github.com)|140.82.113.3|:443... connected.\n",
            "HTTP request sent, awaiting response... 302 Found\n",
            "Location: https://codeload.github.com/ADlead/Dogs-Cats/zip/refs/heads/master [following]\n",
            "--2022-12-26 13:35:22--  https://codeload.github.com/ADlead/Dogs-Cats/zip/refs/heads/master\n",
            "Resolving codeload.github.com (codeload.github.com)... 140.82.114.10\n",
            "Connecting to codeload.github.com (codeload.github.com)|140.82.114.10|:443... connected.\n",
            "HTTP request sent, awaiting response... 200 OK\n",
            "Length: unspecified [application/zip]\n",
            "Saving to: ‘cats-and-dogs.zip’\n",
            "\n",
            "cats-and-dogs.zip       [ <=>                ] 817.02M  30.0MB/s    in 28s     \n",
            "\n",
            "2022-12-26 13:35:50 (29.5 MB/s) - ‘cats-and-dogs.zip’ saved [856708511]\n",
            "\n"
          ]
        }
      ]
    },
    {
      "cell_type": "code",
      "source": [
        "import zipfile\n",
        "\n",
        "local_zip = './cats-and-dogs.zip'\n",
        "zip_ref = zipfile.ZipFile(local_zip,'r')\n",
        "zip_ref.extractall('data')\n",
        "zip_ref.close()\n"
      ],
      "metadata": {
        "id": "FrQC_wPcrbZf"
      },
      "execution_count": 5,
      "outputs": []
    },
    {
      "cell_type": "code",
      "source": [
        "!ls data/Dogs-Cats-master/data/"
      ],
      "metadata": {
        "colab": {
          "base_uri": "https://localhost:8080/"
        },
        "id": "U6u3Qo21sEhF",
        "outputId": "dc37242e-de16-4109-e1fe-dcb1021bbef8"
      },
      "execution_count": 7,
      "outputs": [
        {
          "output_type": "stream",
          "name": "stdout",
          "text": [
            "sampleSubmission.csv  test1  train\n"
          ]
        }
      ]
    },
    {
      "cell_type": "code",
      "source": [
        "!cp -rip ./data/Dogs-Cats-master/data/train ./data/kaggle_original_data"
      ],
      "metadata": {
        "id": "iL0-z1SUsgca"
      },
      "execution_count": 10,
      "outputs": []
    },
    {
      "cell_type": "code",
      "execution_count": 11,
      "metadata": {
        "id": "0ghQp8uVnNgl"
      },
      "outputs": [],
      "source": [
        "import os, shutil\n",
        "# The path to the directory where the original\n",
        "# dataset was uncompressed（原始數據集解壓目錄的路徑）\n",
        "#original_dataset_dir = 'data/kaggle_original_data'\n",
        "original_dataset_dir = 'data/kaggle_original_data' #colab\n",
        "\n",
        "# The directory where we will\n",
        "# store our smaller dataset（保存較小數據集的目錄）\n",
        "base_dir = 'data/cats_and_dogs_small'\n",
        "if not os.path.exists(base_dir):\n",
        "    os.mkdir(base_dir)\n",
        "\n",
        "# Directories for our training, validation and test splits\n",
        "#（分別對應劃分後的訓練、 驗證和測試的目錄）\n",
        "train_dir = os.path.join(base_dir, 'train')\n",
        "if not os.path.exists(train_dir):\n",
        "    os.mkdir(train_dir)\n",
        "# Directory with our training cat pictures(貓的訓練圖像目錄)\n",
        "train_cats_dir = os.path.join(train_dir, 'cats')\n",
        "if not os.path.exists(train_cats_dir):\n",
        "    os.mkdir(train_cats_dir)\n",
        "\n",
        "# Directory with our training dog pictures(狗的訓練圖像目錄)\n",
        "train_dogs_dir = os.path.join(train_dir, 'dogs')\n",
        "if not os.path.exists(train_dogs_dir):\n",
        "    os.mkdir(train_dogs_dir)\n",
        "validation_dir = os.path.join(base_dir, 'validation')\n",
        "if not os.path.exists(validation_dir):\n",
        "    os.mkdir(validation_dir)\n",
        "    # Directory with our validation cat pictures(貓的驗證圖像目錄)\n",
        "validation_cats_dir = os.path.join(validation_dir, 'cats')\n",
        "if not os.path.exists(validation_cats_dir):\n",
        "    os.mkdir(validation_cats_dir)\n",
        "\n",
        "# Directory with our validation dog pictures(狗的驗證圖像目錄)\n",
        "validation_dogs_dir = os.path.join(validation_dir, 'dogs')\n",
        "if not os.path.exists(validation_dogs_dir):\n",
        "    os.mkdir(validation_dogs_dir)\n",
        "    \n",
        "test_dir = os.path.join(base_dir, 'test')\n",
        "if not os.path.exists(test_dir):\n",
        "    os.mkdir(test_dir)\n",
        "    # Directory with our test cat pictures（貓的測試圖像目錄）\n",
        "test_cats_dir = os.path.join(test_dir, 'cats')\n",
        "if not os.path.exists(test_cats_dir):\n",
        "    os.mkdir(test_cats_dir)\n",
        "\n",
        "# Directory with our test dog pictures（狗的測試圖像目錄）\n",
        "test_dogs_dir = os.path.join(test_dir, 'dogs')\n",
        "if not os.path.exists(test_dogs_dir):\n",
        "    os.mkdir(test_dogs_dir)\n"
      ]
    },
    {
      "cell_type": "markdown",
      "metadata": {
        "id": "8LcSATcJnNgp"
      },
      "source": [
        "- 25,000 images of dogs and cats"
      ]
    },
    {
      "cell_type": "code",
      "execution_count": 12,
      "metadata": {
        "id": "KsUyLdUhnNgr"
      },
      "outputs": [],
      "source": [
        "# Copy first 1000 cat images to train_cats_dir（將前 1000 張貓的圖像複製 到 train_cats_dir）\n",
        "fnames = ['cat.{}.jpg'.format(i) for i in range(1000)]\n",
        "for fname in fnames:\n",
        "    src = os.path.join(original_dataset_dir, fname)\n",
        "    dst = os.path.join(train_cats_dir, fname)\n",
        "    shutil.copyfile(src, dst)\n",
        "    \n",
        "# Copy next 500 cat images to validation_cats_dir（將 接 下 來 500 張 貓 的 圖像 復 制到 validation_cats_dir）\n",
        "fnames = ['cat.{}.jpg'.format(i) for i in range(1000, 1500)]\n",
        "for fname in fnames:\n",
        "    src = os.path.join(original_dataset_dir, fname)\n",
        "    dst = os.path.join(validation_cats_dir, fname)\n",
        "    shutil.copyfile(src, dst)\n",
        "    \n",
        "# Copy next 500 cat images to test_cats_dir（將 接 下 來的 500 張 貓 的 圖像 複製到 test_cats_dir）\n",
        "fnames = ['cat.{}.jpg'.format(i) for i in range(1500, 2000)]\n",
        "for fname in fnames:\n",
        "    src = os.path.join(original_dataset_dir, fname)\n",
        "    dst = os.path.join(test_cats_dir, fname)\n",
        "    shutil.copyfile(src, dst)\n",
        "    \n",
        "# Copy first 1000 dog images to train_dogs_dir（將前 1000 張狗的圖像複製 到 train_dogs_dir）\n",
        "fnames = ['dog.{}.jpg'.format(i) for i in range(1000)]\n",
        "for fname in fnames:\n",
        "    src = os.path.join(original_dataset_dir, fname)\n",
        "    dst = os.path.join(train_dogs_dir, fname)\n",
        "    shutil.copyfile(src, dst)\n",
        "    \n",
        "# Copy next 500 dog images to validation_dogs_dir（將接下來 500 張狗的圖像復 制到 validation_dogs_dir）\n",
        "fnames = ['dog.{}.jpg'.format(i) for i in range(1000, 1500)]\n",
        "for fname in fnames:\n",
        "    src = os.path.join(original_dataset_dir, fname)\n",
        "    dst = os.path.join(validation_dogs_dir, fname)\n",
        "    shutil.copyfile(src, dst)\n",
        "    \n",
        "# Copy next 500 dog images to test_dogs_dir（將接下來 500 張狗的圖像複製到 test_dogs_dir）\n",
        "fnames = ['dog.{}.jpg'.format(i) for i in range(1500, 2000)]\n",
        "for fname in fnames:\n",
        "    src = os.path.join(original_dataset_dir, fname)\n",
        "    dst = os.path.join(test_dogs_dir, fname)\n",
        "    shutil.copyfile(src, dst)\n",
        "    \n"
      ]
    },
    {
      "cell_type": "markdown",
      "metadata": {
        "id": "WvzTcQvFnNgt"
      },
      "source": [
        "- check our train / test data number"
      ]
    },
    {
      "cell_type": "code",
      "execution_count": 13,
      "metadata": {
        "colab": {
          "base_uri": "https://localhost:8080/"
        },
        "id": "wzz-r5k3nNgu",
        "outputId": "79ec8581-1139-45c9-cdcb-3ad2269bbca2"
      },
      "outputs": [
        {
          "output_type": "stream",
          "name": "stdout",
          "text": [
            "total training cat images: 1000\n",
            "total training dog images: 1000\n",
            "total validation cat images: 500\n",
            "total validation dog images: 500\n",
            "total test cat images: 500\n",
            "total test dog images: 500\n"
          ]
        }
      ],
      "source": [
        "print('total training cat images:', len(os.listdir(train_cats_dir)))\n",
        "\n",
        "print('total training dog images:', len(os.listdir(train_dogs_dir)))\n",
        "\n",
        "print('total validation cat images:', len(os.listdir(validation_cats_dir)))\n",
        "\n",
        "print('total validation dog images:', len(os.listdir(validation_dogs_dir)))\n",
        "\n",
        "print('total test cat images:', len(os.listdir(test_cats_dir)))\n",
        "\n",
        "print('total test dog images:', len(os.listdir(test_dogs_dir)))\n"
      ]
    },
    {
      "cell_type": "markdown",
      "metadata": {
        "id": "wkbkmgJ9nNgy"
      },
      "source": [
        "網絡中特徵圖的深度在逐漸增大（從 32 增大到 128），而特徵圖的尺寸在逐漸減小（從148×148 減小到 7×7）。這幾乎是所有卷積神經網絡的模式。\n"
      ]
    },
    {
      "cell_type": "code",
      "execution_count": 14,
      "metadata": {
        "id": "diX_oYOjnNgz"
      },
      "outputs": [],
      "source": [
        "from tensorflow.keras import models\n",
        "from tensorflow.keras import layers\n",
        "\n",
        "model = models.Sequential()\n",
        "model.add(layers.Conv2D(32, (3, 3), activation='relu',\n",
        "                        input_shape=(150, 150, 3)))\n",
        "model.add(layers.MaxPooling2D((2, 2)))\n",
        "model.add(layers.Conv2D(64, (3, 3), activation='relu'))\n",
        "model.add(layers.MaxPooling2D((2, 2)))\n",
        "model.add(layers.Conv2D(128, (3, 3), activation='relu'))\n",
        "model.add(layers.MaxPooling2D((2, 2)))\n",
        "model.add(layers.Conv2D(128, (3, 3), activation='relu'))\n",
        "model.add(layers.MaxPooling2D((2, 2)))\n",
        "model.add(layers.Flatten())\n",
        "model.add(layers.Dense(512, activation='relu'))\n",
        "model.add(layers.Dense(1, activation='sigmoid'))"
      ]
    },
    {
      "cell_type": "code",
      "execution_count": 15,
      "metadata": {
        "colab": {
          "base_uri": "https://localhost:8080/"
        },
        "id": "X5o_dDb9nNg0",
        "outputId": "e079068c-bff8-4def-9283-b3978e18e21e"
      },
      "outputs": [
        {
          "output_type": "stream",
          "name": "stdout",
          "text": [
            "Model: \"sequential\"\n",
            "_________________________________________________________________\n",
            " Layer (type)                Output Shape              Param #   \n",
            "=================================================================\n",
            " conv2d (Conv2D)             (None, 148, 148, 32)      896       \n",
            "                                                                 \n",
            " max_pooling2d (MaxPooling2D  (None, 74, 74, 32)       0         \n",
            " )                                                               \n",
            "                                                                 \n",
            " conv2d_1 (Conv2D)           (None, 72, 72, 64)        18496     \n",
            "                                                                 \n",
            " max_pooling2d_1 (MaxPooling  (None, 36, 36, 64)       0         \n",
            " 2D)                                                             \n",
            "                                                                 \n",
            " conv2d_2 (Conv2D)           (None, 34, 34, 128)       73856     \n",
            "                                                                 \n",
            " max_pooling2d_2 (MaxPooling  (None, 17, 17, 128)      0         \n",
            " 2D)                                                             \n",
            "                                                                 \n",
            " conv2d_3 (Conv2D)           (None, 15, 15, 128)       147584    \n",
            "                                                                 \n",
            " max_pooling2d_3 (MaxPooling  (None, 7, 7, 128)        0         \n",
            " 2D)                                                             \n",
            "                                                                 \n",
            " flatten (Flatten)           (None, 6272)              0         \n",
            "                                                                 \n",
            " dense (Dense)               (None, 512)               3211776   \n",
            "                                                                 \n",
            " dense_1 (Dense)             (None, 1)                 513       \n",
            "                                                                 \n",
            "=================================================================\n",
            "Total params: 3,453,121\n",
            "Trainable params: 3,453,121\n",
            "Non-trainable params: 0\n",
            "_________________________________________________________________\n"
          ]
        }
      ],
      "source": [
        "model.summary()"
      ]
    },
    {
      "cell_type": "code",
      "execution_count": 16,
      "metadata": {
        "colab": {
          "base_uri": "https://localhost:8080/"
        },
        "id": "TAtzwKxDnNg0",
        "outputId": "14496096-d4c5-478b-a2bb-debfdb076a3a"
      },
      "outputs": [
        {
          "output_type": "stream",
          "name": "stderr",
          "text": [
            "/usr/local/lib/python3.8/dist-packages/keras/optimizers/optimizer_v2/rmsprop.py:135: UserWarning: The `lr` argument is deprecated, use `learning_rate` instead.\n",
            "  super(RMSprop, self).__init__(name, **kwargs)\n"
          ]
        }
      ],
      "source": [
        "from tensorflow.keras import optimizers\n",
        "\n",
        "model.compile(loss='binary_crossentropy',\n",
        "              optimizer=optimizers.RMSprop(lr=1e-4),\n",
        "              metrics=['acc'])"
      ]
    },
    {
      "cell_type": "code",
      "execution_count": 17,
      "metadata": {
        "colab": {
          "base_uri": "https://localhost:8080/"
        },
        "id": "3ZLxf1yunNg1",
        "outputId": "9664a069-0d3d-4221-ebc5-95b10b3ed491"
      },
      "outputs": [
        {
          "output_type": "stream",
          "name": "stdout",
          "text": [
            "Found 2000 images belonging to 2 classes.\n",
            "Found 1000 images belonging to 2 classes.\n"
          ]
        }
      ],
      "source": [
        "from tensorflow.keras.preprocessing.image import ImageDataGenerator\n",
        "\n",
        "# All images will be rescaled by 1./255（將所有圖像乘以 1/255 縮放）\n",
        "train_datagen = ImageDataGenerator(rescale=1./255)\n",
        "test_datagen = ImageDataGenerator(rescale=1./255)\n",
        "\n",
        "train_generator = train_datagen.flow_from_directory(\n",
        "        # This is the target directory（目標目錄）\n",
        "        train_dir,\n",
        "        # All images will be resized to 150x150（將所有圖像的大小調整爲 150×150）\n",
        "        target_size=(150, 150),\n",
        "        batch_size=20,\n",
        "        # Since we use binary_crossentropy loss, we need binary labels（因爲使用了 binary_crossentropy損失，所以需要用二進制標籤）\n",
        "        class_mode='binary')\n",
        "\n",
        "validation_generator = test_datagen.flow_from_directory(\n",
        "        validation_dir,\n",
        "        target_size=(150, 150),\n",
        "        batch_size=20,\n",
        "        class_mode='binary')"
      ]
    },
    {
      "cell_type": "code",
      "execution_count": 18,
      "metadata": {
        "colab": {
          "base_uri": "https://localhost:8080/"
        },
        "id": "EPCgzD8QnNg2",
        "outputId": "da8149b8-2745-4e7d-be6c-03d684759853"
      },
      "outputs": [
        {
          "output_type": "stream",
          "name": "stdout",
          "text": [
            "data batch shape: (20, 150, 150, 3)\n",
            "labels batch shape: (20,)\n"
          ]
        }
      ],
      "source": [
        "for data_batch, labels_batch in train_generator:\n",
        "    print('data batch shape:', data_batch.shape)\n",
        "    print('labels batch shape:', labels_batch.shape)\n",
        "    break"
      ]
    },
    {
      "cell_type": "code",
      "execution_count": 19,
      "metadata": {
        "colab": {
          "base_uri": "https://localhost:8080/"
        },
        "id": "AuPWyy48nNg3",
        "outputId": "6080f91e-5f39-4858-93da-c898696f866b"
      },
      "outputs": [
        {
          "output_type": "stream",
          "name": "stderr",
          "text": [
            "<ipython-input-19-a7acfc8093a4>:1: UserWarning: `Model.fit_generator` is deprecated and will be removed in a future version. Please use `Model.fit`, which supports generators.\n",
            "  history = model.fit_generator(\n"
          ]
        },
        {
          "output_type": "stream",
          "name": "stdout",
          "text": [
            "Epoch 1/30\n",
            "100/100 [==============================] - 120s 1s/step - loss: 0.6917 - acc: 0.5255 - val_loss: 0.6773 - val_acc: 0.6160\n",
            "Epoch 2/30\n",
            "100/100 [==============================] - 128s 1s/step - loss: 0.6568 - acc: 0.6165 - val_loss: 0.6469 - val_acc: 0.6140\n",
            "Epoch 3/30\n",
            "100/100 [==============================] - 114s 1s/step - loss: 0.6104 - acc: 0.6760 - val_loss: 0.6437 - val_acc: 0.6190\n",
            "Epoch 4/30\n",
            "100/100 [==============================] - 113s 1s/step - loss: 0.5787 - acc: 0.6915 - val_loss: 0.5956 - val_acc: 0.6830\n",
            "Epoch 5/30\n",
            "100/100 [==============================] - 113s 1s/step - loss: 0.5508 - acc: 0.7195 - val_loss: 0.5834 - val_acc: 0.6930\n",
            "Epoch 6/30\n",
            "100/100 [==============================] - 115s 1s/step - loss: 0.5320 - acc: 0.7345 - val_loss: 0.5776 - val_acc: 0.6960\n",
            "Epoch 7/30\n",
            "100/100 [==============================] - 113s 1s/step - loss: 0.4943 - acc: 0.7475 - val_loss: 0.5955 - val_acc: 0.6730\n",
            "Epoch 8/30\n",
            "100/100 [==============================] - 112s 1s/step - loss: 0.4730 - acc: 0.7665 - val_loss: 0.5825 - val_acc: 0.6860\n",
            "Epoch 9/30\n",
            "100/100 [==============================] - 114s 1s/step - loss: 0.4555 - acc: 0.7705 - val_loss: 0.6270 - val_acc: 0.6800\n",
            "Epoch 10/30\n",
            "100/100 [==============================] - 113s 1s/step - loss: 0.4224 - acc: 0.8120 - val_loss: 0.6052 - val_acc: 0.6780\n",
            "Epoch 11/30\n",
            "100/100 [==============================] - 114s 1s/step - loss: 0.3949 - acc: 0.8215 - val_loss: 0.5931 - val_acc: 0.6940\n",
            "Epoch 12/30\n",
            "100/100 [==============================] - 114s 1s/step - loss: 0.3764 - acc: 0.8325 - val_loss: 0.6366 - val_acc: 0.6980\n",
            "Epoch 13/30\n",
            "100/100 [==============================] - 111s 1s/step - loss: 0.3556 - acc: 0.8445 - val_loss: 0.5672 - val_acc: 0.7110\n",
            "Epoch 14/30\n",
            "100/100 [==============================] - 112s 1s/step - loss: 0.3274 - acc: 0.8555 - val_loss: 0.5812 - val_acc: 0.7150\n",
            "Epoch 15/30\n",
            "100/100 [==============================] - 112s 1s/step - loss: 0.2999 - acc: 0.8755 - val_loss: 0.5953 - val_acc: 0.7140\n",
            "Epoch 16/30\n",
            "100/100 [==============================] - 111s 1s/step - loss: 0.2831 - acc: 0.8840 - val_loss: 0.5856 - val_acc: 0.7210\n",
            "Epoch 17/30\n",
            "100/100 [==============================] - 113s 1s/step - loss: 0.2595 - acc: 0.8920 - val_loss: 0.6382 - val_acc: 0.7030\n",
            "Epoch 18/30\n",
            "100/100 [==============================] - 113s 1s/step - loss: 0.2325 - acc: 0.9105 - val_loss: 0.6585 - val_acc: 0.7120\n",
            "Epoch 19/30\n",
            "100/100 [==============================] - 112s 1s/step - loss: 0.2108 - acc: 0.9180 - val_loss: 0.6644 - val_acc: 0.7100\n",
            "Epoch 20/30\n",
            "100/100 [==============================] - 113s 1s/step - loss: 0.1893 - acc: 0.9275 - val_loss: 0.6792 - val_acc: 0.7200\n",
            "Epoch 21/30\n",
            "100/100 [==============================] - 112s 1s/step - loss: 0.1659 - acc: 0.9380 - val_loss: 0.7043 - val_acc: 0.7160\n",
            "Epoch 22/30\n",
            "100/100 [==============================] - 113s 1s/step - loss: 0.1525 - acc: 0.9470 - val_loss: 0.8099 - val_acc: 0.7020\n",
            "Epoch 23/30\n",
            "100/100 [==============================] - 112s 1s/step - loss: 0.1362 - acc: 0.9535 - val_loss: 0.7366 - val_acc: 0.7100\n",
            "Epoch 24/30\n",
            "100/100 [==============================] - 111s 1s/step - loss: 0.1165 - acc: 0.9610 - val_loss: 0.7636 - val_acc: 0.7140\n",
            "Epoch 25/30\n",
            "100/100 [==============================] - 112s 1s/step - loss: 0.1007 - acc: 0.9695 - val_loss: 0.8034 - val_acc: 0.7100\n",
            "Epoch 26/30\n",
            "100/100 [==============================] - 112s 1s/step - loss: 0.0889 - acc: 0.9755 - val_loss: 0.8651 - val_acc: 0.7060\n",
            "Epoch 27/30\n",
            "100/100 [==============================] - 113s 1s/step - loss: 0.0735 - acc: 0.9770 - val_loss: 0.9147 - val_acc: 0.7040\n",
            "Epoch 28/30\n",
            "100/100 [==============================] - 112s 1s/step - loss: 0.0663 - acc: 0.9810 - val_loss: 0.9659 - val_acc: 0.6950\n",
            "Epoch 29/30\n",
            "100/100 [==============================] - 113s 1s/step - loss: 0.0594 - acc: 0.9805 - val_loss: 0.9463 - val_acc: 0.7080\n",
            "Epoch 30/30\n",
            "100/100 [==============================] - 111s 1s/step - loss: 0.0499 - acc: 0.9880 - val_loss: 0.9731 - val_acc: 0.7030\n"
          ]
        }
      ],
      "source": [
        "history = model.fit_generator(\n",
        "      train_generator,\n",
        "      steps_per_epoch=100,\n",
        "      epochs=30,\n",
        "      validation_data=validation_generator,\n",
        "      validation_steps=50)"
      ]
    },
    {
      "cell_type": "markdown",
      "metadata": {
        "id": "ozu7E_07nNg4"
      },
      "source": [
        "### save model "
      ]
    },
    {
      "cell_type": "code",
      "execution_count": 20,
      "metadata": {
        "id": "7f-_q2finNg5"
      },
      "outputs": [],
      "source": [
        "model.save('cats_and_dogs_small_1.h5')"
      ]
    },
    {
      "cell_type": "markdown",
      "metadata": {
        "id": "LV0BQpHznNg5"
      },
      "source": [
        "### draw a chart"
      ]
    },
    {
      "cell_type": "code",
      "execution_count": 21,
      "metadata": {
        "colab": {
          "base_uri": "https://localhost:8080/",
          "height": 545
        },
        "id": "on-gejppnNg6",
        "outputId": "3ac68064-f299-4a67-b1b2-d3cd6ee28f43"
      },
      "outputs": [
        {
          "output_type": "display_data",
          "data": {
            "text/plain": [
              "<Figure size 432x288 with 1 Axes>"
            ],
            "image/png": "[encoded data removed]"
          },
          "metadata": {
            "needs_background": "light"
          }
        },
        {
          "output_type": "display_data",
          "data": {
            "text/plain": [
              "<Figure size 432x288 with 1 Axes>"
            ],
            "image/png": "[encoded data removed]"
          },
          "metadata": {
            "needs_background": "light"
          }
        }
      ],
      "source": [
        "%matplotlib inline\n",
        "import matplotlib.pyplot as plt\n",
        "\n",
        "acc = history.history['acc']\n",
        "val_acc = history.history['val_acc']\n",
        "loss = history.history['loss']\n",
        "val_loss = history.history['val_loss']\n",
        "\n",
        "epochs = range(len(acc))\n",
        "\n",
        "plt.plot(epochs, acc, 'bo', label='Training acc')\n",
        "plt.plot(epochs, val_acc, 'b', label='Validation acc')\n",
        "plt.title('Training and validation accuracy')\n",
        "plt.legend()\n",
        "\n",
        "plt.figure()\n",
        "\n",
        "plt.plot(epochs, loss, 'bo', label='Training loss')\n",
        "plt.plot(epochs, val_loss, 'b', label='Validation loss')\n",
        "plt.title('Training and validation loss')\n",
        "plt.legend()\n",
        "\n",
        "plt.show()"
      ]
    },
    {
      "cell_type": "code",
      "execution_count": 21,
      "metadata": {
        "id": "XtxNmfs-nNg7"
      },
      "outputs": [],
      "source": []
    }
  ],
  "metadata": {
    "colab": {
      "provenance": []
    },
    "kernelspec": {
      "display_name": "Python 3 (ipykernel)",
      "language": "python",
      "name": "python3"
    },
    "language_info": {
      "codemirror_mode": {
        "name": "ipython",
        "version": 3
      },
      "file_extension": ".py",
      "mimetype": "text/x-python",
      "name": "python",
      "nbconvert_exporter": "python",
      "pygments_lexer": "ipython3",
      "version": "3.7.13"
    },
    "gpuClass": "standard"
  },
  "nbformat": 4,
  "nbformat_minor": 0
}